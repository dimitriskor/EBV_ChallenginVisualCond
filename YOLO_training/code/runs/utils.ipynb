{
 "cells": [
  {
   "cell_type": "code",
   "execution_count": 13,
   "id": "919969f8-697b-4d2b-bbb8-95296d3977d3",
   "metadata": {},
   "outputs": [],
   "source": [
    "import os\n",
    "from PIL import Image\n",
    "\n",
    "prefix_train = '../../TS_yolo/dataset_1/glare/e2f_gray/train/images/'\n",
    "prefix_val = '../../TS_yolo/dataset_1/glare/e2f_gray/val/images/'"
   ]
  },
  {
   "cell_type": "code",
   "execution_count": 14,
   "id": "f323800f-f6c2-41f6-8d02-532efeb4cf04",
   "metadata": {},
   "outputs": [],
   "source": [
    "images_train = os.listdir(prefix_train)\n",
    "images_val = os.listdir(prefix_val)"
   ]
  },
  {
   "cell_type": "code",
   "execution_count": 17,
   "id": "83d18a02-bc63-4f42-a23c-9888708cc38a",
   "metadata": {},
   "outputs": [
    {
     "name": "stdout",
     "output_type": "stream",
     "text": [
      "cannot identify image file '/home/dimkor/Phd/code/EventBasedRepr/TS_yolo/dataset_1/glare/e2f_gray/train/images/zurich_city_08_a_0mps.txt'\n",
      "cannot identify image file '/home/dimkor/Phd/code/EventBasedRepr/TS_yolo/dataset_1/glare/e2f_gray/train/images/zurich_city_01_b_0mps.txt'\n",
      "cannot identify image file '/home/dimkor/Phd/code/EventBasedRepr/TS_yolo/dataset_1/glare/e2f_gray/train/images/interlaken_00_g_0mps.txt'\n",
      "cannot identify image file '/home/dimkor/Phd/code/EventBasedRepr/TS_yolo/dataset_1/glare/e2f_gray/train/images/zurich_city_00_b_0mps.txt'\n",
      "cannot identify image file '/home/dimkor/Phd/code/EventBasedRepr/TS_yolo/dataset_1/glare/e2f_gray/train/images/zurich_city_00_a_0mps.txt'\n",
      "cannot identify image file '/home/dimkor/Phd/code/EventBasedRepr/TS_yolo/dataset_1/glare/e2f_gray/train/images/interlaken_00_c_0mps.txt'\n",
      "cannot identify image file '/home/dimkor/Phd/code/EventBasedRepr/TS_yolo/dataset_1/glare/e2f_gray/train/images/interlaken_00_d_0mps.txt'\n",
      "cannot identify image file '/home/dimkor/Phd/code/EventBasedRepr/TS_yolo/dataset_1/glare/e2f_gray/train/images/zurich_city_01_e_0mps.txt'\n",
      "cannot identify image file '/home/dimkor/Phd/code/EventBasedRepr/TS_yolo/dataset_1/glare/e2f_gray/train/images/zurich_city_04_e_0mps.txt'\n",
      "cannot identify image file '/home/dimkor/Phd/code/EventBasedRepr/TS_yolo/dataset_1/glare/e2f_gray/train/images/zurich_city_02_e_0mps.txt'\n",
      "cannot identify image file '/home/dimkor/Phd/code/EventBasedRepr/TS_yolo/dataset_1/glare/e2f_gray/train/images/zurich_city_14_a_0mps.txt'\n",
      "cannot identify image file '/home/dimkor/Phd/code/EventBasedRepr/TS_yolo/dataset_1/glare/e2f_gray/train/images/zurich_city_04_d_0mps.txt'\n",
      "[Errno 2] No such file or directory: '/home/dimkor/Phd/code/EventBasedRepr/TS_yolo/dataset_1/glare/e2f_gray/train/images/interlaken_00_b_0mps.txt'\n",
      "cannot identify image file '/home/dimkor/Phd/code/EventBasedRepr/TS_yolo/dataset_1/glare/e2f_gray/train/images/zurich_city_15_a_0mps.txt'\n",
      "cannot identify image file '/home/dimkor/Phd/code/EventBasedRepr/TS_yolo/dataset_1/glare/e2f_gray/train/images/zurich_city_14_b_0mps.txt'\n",
      "cannot identify image file '/home/dimkor/Phd/code/EventBasedRepr/TS_yolo/dataset_1/glare/e2f_gray/train/images/zurich_city_11_b_0mps.txt'\n",
      "cannot identify image file '/home/dimkor/Phd/code/EventBasedRepr/TS_yolo/dataset_1/glare/e2f_gray/train/images/zurich_city_02_d_0mps.txt'\n",
      "cannot identify image file '/home/dimkor/Phd/code/EventBasedRepr/TS_yolo/dataset_1/glare/e2f_gray/train/images/zurich_city_02_b_0mps.txt'\n",
      "cannot identify image file '/home/dimkor/Phd/code/EventBasedRepr/TS_yolo/dataset_1/glare/e2f_gray/train/images/thun_00_a_0mps.txt'\n",
      "cannot identify image file '/home/dimkor/Phd/code/EventBasedRepr/TS_yolo/dataset_1/glare/e2f_gray/train/images/zurich_city_01_f_0mps.txt'\n",
      "cannot identify image file '/home/dimkor/Phd/code/EventBasedRepr/TS_yolo/dataset_1/glare/e2f_gray/train/images/zurich_city_01_a_0mps.txt'\n",
      "cannot identify image file '/home/dimkor/Phd/code/EventBasedRepr/TS_yolo/dataset_1/glare/e2f_gray/train/images/zurich_city_11_c_0mps.txt'\n",
      "cannot identify image file '/home/dimkor/Phd/code/EventBasedRepr/TS_yolo/dataset_1/glare/e2f_gray/train/images/zurich_city_04_f_0mps.txt'\n",
      "cannot identify image file '/home/dimkor/Phd/code/EventBasedRepr/TS_yolo/dataset_1/glare/e2f_gray/train/images/zurich_city_14_c_0mps.txt'\n",
      "cannot identify image file '/home/dimkor/Phd/code/EventBasedRepr/TS_yolo/dataset_1/glare/e2f_gray/train/images/interlaken_00_f_0mps.txt'\n",
      "[Errno 2] No such file or directory: '/home/dimkor/Phd/code/EventBasedRepr/TS_yolo/dataset_1/glare/e2f_gray/train/images/interlaken_00_a_0mps.txt'\n",
      "cannot identify image file '/home/dimkor/Phd/code/EventBasedRepr/TS_yolo/dataset_1/glare/e2f_gray/train/images/zurich_city_02_a_0mps.txt'\n",
      "cannot identify image file '/home/dimkor/Phd/code/EventBasedRepr/TS_yolo/dataset_1/glare/e2f_gray/train/images/zurich_city_07_a_0mps.txt'\n",
      "cannot identify image file '/home/dimkor/Phd/code/EventBasedRepr/TS_yolo/dataset_1/glare/e2f_gray/train/images/zurich_city_13_a_0mps.txt'\n",
      "cannot identify image file '/home/dimkor/Phd/code/EventBasedRepr/TS_yolo/dataset_1/glare/e2f_gray/train/images/zurich_city_01_d_0mps.txt'\n",
      "[Errno 28] No space left on device\n",
      "cannot identify image file '/home/dimkor/Phd/code/EventBasedRepr/TS_yolo/dataset_1/glare/e2f_gray/train/images/zurich_city_04_a_0mps.txt'\n",
      "cannot identify image file '/home/dimkor/Phd/code/EventBasedRepr/TS_yolo/dataset_1/glare/e2f_gray/train/images/interlaken_01_a_0mps.txt'\n",
      "cannot identify image file '/home/dimkor/Phd/code/EventBasedRepr/TS_yolo/dataset_1/glare/e2f_gray/train/images/zurich_city_05_b_0mps.txt'\n",
      "cannot identify image file '/home/dimkor/Phd/code/EventBasedRepr/TS_yolo/dataset_1/glare/e2f_gray/train/images/zurich_city_04_b_0mps.txt'\n",
      "cannot identify image file '/home/dimkor/Phd/code/EventBasedRepr/TS_yolo/dataset_1/glare/e2f_gray/train/images/zurich_city_01_c_0mps.txt'\n",
      "cannot identify image file '/home/dimkor/Phd/code/EventBasedRepr/TS_yolo/dataset_1/glare/e2f_gray/train/images/zurich_city_04_c_0mps.txt'\n",
      "cannot identify image file '/home/dimkor/Phd/code/EventBasedRepr/TS_yolo/dataset_1/glare/e2f_gray/train/images/zurich_city_05_a_0mps.txt'\n",
      "cannot identify image file '/home/dimkor/Phd/code/EventBasedRepr/TS_yolo/dataset_1/glare/e2f_gray/train/images/zurich_city_02_c_0mps.txt'\n",
      "cannot identify image file '/home/dimkor/Phd/code/EventBasedRepr/TS_yolo/dataset_1/glare/e2f_gray/train/images/zurich_city_13_b_0mps.txt'\n",
      "cannot identify image file '/home/dimkor/Phd/code/EventBasedRepr/TS_yolo/dataset_1/glare/e2f_gray/train/images/thun_01_a_0mps.txt'\n",
      "cannot identify image file '/home/dimkor/Phd/code/EventBasedRepr/TS_yolo/dataset_1/glare/e2f_gray/train/images/interlaken_00_e_0mps.txt'\n",
      "cannot identify image file '/home/dimkor/Phd/code/EventBasedRepr/TS_yolo/dataset_1/glare/e2f_gray/train/images/thun_01_b_0mps.txt'\n"
     ]
    }
   ],
   "source": [
    "# for im in images_val:\n",
    "#     img = Image.open(prefix_val+im).convert('L')\n",
    "#     img.save(prefix_val+im)\n",
    "for im in images_train:\n",
    "    try:\n",
    "        img = Image.open(prefix_train+im).convert('L')\n",
    "        img.save(prefix_train+im)\n",
    "    except Exception as e:\n",
    "        print(e)"
   ]
  },
  {
   "cell_type": "code",
   "execution_count": 22,
   "id": "949e9674-5595-4474-a2b8-d3333c34c316",
   "metadata": {},
   "outputs": [
    {
     "name": "stderr",
     "output_type": "stream",
     "text": [
      "2521it [00:00, 879980.06it/s]\n",
      "47500it [00:00, 2254644.88it/s]\n"
     ]
    }
   ],
   "source": [
    "import os\n",
    "import re\n",
    "from tqdm import tqdm\n",
    "\n",
    "def rename_files(directory):\n",
    "    files = sorted(os.listdir(directory))\n",
    "    pattern = re.compile(r\"^(.*)_0(\\d{5})\\.txt$\")\n",
    "    \n",
    "    for file in tqdm(reversed(files)):\n",
    "        match = pattern.match(file)\n",
    "        if match:\n",
    "            prefix, num = match.groups()\n",
    "            num = int(num)\n",
    "            if num == 0:\n",
    "                os.remove(os.path.join(directory, file))\n",
    "                print(f\"Deleted: {file}\")\n",
    "            else:\n",
    "                new_name = f\"{prefix}_0{num - 1:05d}.txt\"\n",
    "                os.rename(os.path.join(directory, file), os.path.join(directory, new_name))\n",
    "                print(f\"Renamed: {file} -> {new_name}\")\n",
    "                \n",
    "# rename_files('../../TS_yolo/dataset_1/glare/e2f_small/val/labels/')\n",
    "# rename_files('../../TS_yolo/dataset_1/glare/e2f_small/train/labels/')"
   ]
  },
  {
   "cell_type": "code",
   "execution_count": null,
   "id": "f5b019c2-9639-4d72-9447-18119adfaa9e",
   "metadata": {},
   "outputs": [],
   "source": []
  }
 ],
 "metadata": {
  "kernelspec": {
   "display_name": "vinfo",
   "language": "python",
   "name": "vinfo"
  },
  "language_info": {
   "codemirror_mode": {
    "name": "ipython",
    "version": 3
   },
   "file_extension": ".py",
   "mimetype": "text/x-python",
   "name": "python",
   "nbconvert_exporter": "python",
   "pygments_lexer": "ipython3",
   "version": "3.10.12"
  }
 },
 "nbformat": 4,
 "nbformat_minor": 5
}
