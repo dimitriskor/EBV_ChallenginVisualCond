{
 "cells": [
  {
   "cell_type": "code",
   "execution_count": 1,
   "id": "4f7fbc26-7f47-4379-8ba8-5bbeded79e3e",
   "metadata": {},
   "outputs": [],
   "source": [
    "import os\n",
    "import argparse\n",
    "import shutil\n",
    "import pickle\n",
    "import torch\n",
    "import sys\n",
    "import numpy as np\n",
    "sys.path.append(os.path.abspath(os.path.join(os.getcwd(), './..')))\n",
    "from src.utils.data import remap, fetch_data_to_write\n",
    "from tqdm import tqdm\n",
    "from src.utils.utils import optimal_distance\n",
    "import cv2\n",
    "from ultralytics import YOLO\n",
    "import matplotlib.pyplot as plt"
   ]
  },
  {
   "cell_type": "code",
   "execution_count": 16,
   "id": "0b15d072-e14e-49ea-af4a-ae0f35708de0",
   "metadata": {},
   "outputs": [],
   "source": [
    "# Need to map to other coordinates\n",
    "\n",
    "target_labels = {'car', 'bus', 'truck'}\n",
    "def compute_iou(box1, box2):\n",
    "    x1 = max(box1[0], box2[0])\n",
    "    y1 = max(box1[1], box2[1])\n",
    "    x2 = min(box1[2], box2[2])\n",
    "    y2 = min(box1[3], box2[3])\n",
    "    inter_area = max(0, x2 - x1) * max(0, y2 - y1)\n",
    "    box1_area = (box1[2] - box1[0]) * (box1[3] - box1[1])\n",
    "    box2_area = (box2[2] - box2[0]) * (box2[3] - box2[1])\n",
    "    union_area = box1_area + box2_area - inter_area\n",
    "    return inter_area / union_area if union_area > 0 else 0\n",
    "\n",
    "def run_images(img_events, img_rgb, model_events, model_rgb):\n",
    "    results_events = model_events.track(img_events, persist=True, verbose=False)\n",
    "    results_rgb = model_rgb.track(img_rgb, persist=True, verbose=False)\n",
    "\n",
    "    event_boxes = []\n",
    "    for box in results_events[0].boxes:\n",
    "        confidence = float(box.conf[0])\n",
    "        if confidence > conf_thr:\n",
    "            x1, y1, x2, y2 = map(int, box.xyxy[0])\n",
    "            event_boxes.append([x1/640, y1/480, x2/640, y2/480])\n",
    "            cv2.rectangle(img_events, (x1, y1), (x2, y2), (0, 255, 0), 2)\n",
    "\n",
    "    rgb_boxes = []\n",
    "    for box in results_rgb[0].boxes:\n",
    "        confidence = float(box.conf[0])\n",
    "        class_id = int(box.cls[0])\n",
    "        label = model_rgb.names[class_id]\n",
    "\n",
    "        if confidence > conf_thr and label in target_labels:\n",
    "            x1, y1, x2, y2 = map(int, box.xyxy[0])\n",
    "            if np.abs(x1-x2)/1440 < 0.02 or np.abs(y1-y2)/1080 < 0.02:\n",
    "                continue\n",
    "            rgb_boxes.append([x1/1440, y1/1080, x2/1440, y2/1080])\n",
    "            cv2.rectangle(img_rgb, (x1, y1), (x2, y2), (0, 255, 0), 2)\n",
    "\n",
    "    # Match predictions using IoU ≥ 0.5\n",
    "    matched_events = set()\n",
    "    matched_rgb = set()\n",
    "    for i, ebox in enumerate(event_boxes):\n",
    "        for j, rbox in enumerate(rgb_boxes):\n",
    "            if compute_iou(ebox, rbox) >= 0.1:\n",
    "                matched_events.add(i)\n",
    "                matched_rgb.add(j)\n",
    "                break  # Only one match per event box\n",
    "\n",
    "    TP = len(matched_events)\n",
    "    FP = len(event_boxes) - TP\n",
    "    FN = len(rgb_boxes) - TP\n",
    "\n",
    "    true_positives.append(TP)\n",
    "    false_positives.append(FP)\n",
    "    false_negatives.append(FN)"
   ]
  },
  {
   "cell_type": "code",
   "execution_count": 17,
   "id": "50bfb5d6-4602-44ca-b8d7-efb02adc617d",
   "metadata": {},
   "outputs": [
    {
     "name": "stdout",
     "output_type": "stream",
     "text": [
      "zurich_city_04_f\n",
      "641\n"
     ]
    }
   ],
   "source": [
    "recording_names = os.listdir('/mnt/raid0a/Dimitris/DSEC/event_recordings/')\n",
    "images_prefix = f'../../../E2F/final_res/'\n",
    "rgb_prefix = '/mnt/raid0a/Dimitris/DSEC/images_recordings/'\n",
    "\n",
    "model_name = 'e2f_35/x_True_True/weights/epoch20.pt'\n",
    "conf_thr = 0.35\n",
    "dataset_type = 'val'\n",
    "pred_obj = []\n",
    "gt_obj = []\n",
    "flagged_sequences = []\n",
    "\n",
    "true_positives = []\n",
    "false_positives = []\n",
    "false_negatives = []\n",
    "\n",
    "for rec_name in recording_names:\n",
    "    if 'zurich_city_03' in rec_name or 'zurich_city_09' in rec_name or 'zurich_city_10' in rec_name or 'zurich_city_12' in rec_name: # or 'zurich_city_01' in rec_name or 'zurich_city_02' in rec_name:\n",
    "        continue\n",
    "    if 'zurich_city_04_f' not in rec_name:\n",
    "        continue\n",
    "    print(rec_name)\n",
    "    images = os.listdir(images_prefix+rec_name)\n",
    "    images.sort()\n",
    "    optimal_distance_val = optimal_distance('DSEC')[0]\n",
    "    metric = fetch_data_to_write(['partial_contrast'], 'info_DSEC', '',  rec_name)\n",
    "    metric = metric['partial_contrast']\n",
    "    distance = np.sum(np.square((metric-optimal_distance_val)), axis=1)\n",
    "    is_in_test = []\n",
    "    model_rgb = YOLO('yolo11x')\n",
    "    model_events = YOLO(model_name)\n",
    "    pred_obj_in_events = []\n",
    "    pred_obj_in_rgb = []\n",
    "    flags = []\n",
    "    prev = 0\n",
    "    \n",
    "    for idx, image in enumerate(images):\n",
    "        \n",
    "        if '.png' not in image:\n",
    "            continue\n",
    "        if idx < 5:\n",
    "            continue\n",
    "\n",
    "        low = max(0, idx-70)\n",
    "        high = min(idx+110, len(images))\n",
    "        is_flagged = distance[idx] > 0.035\n",
    "        if dataset_type == 'val':\n",
    "            if (np.max(distance[low:high] > 0.035) and not ('zurich_city_01' in rec_name or 'zurich_city_02' in rec_name or 'zurich_city_06' in rec_name)):\n",
    "                im1 = cv2.imread(images_prefix+rec_name+'/'+image)\n",
    "                img = im1\n",
    "                img_rgb = cv2.imread(rgb_prefix+f'{rec_name}/images/left/rectified/0{image[6:]}')\n",
    "                if idx == prev+1:\n",
    "                    flags.append(is_flagged)\n",
    "                    \n",
    "                    prev += 1\n",
    "                elif prev != 0:\n",
    "                    print(idx)\n",
    "                    prev = idx\n",
    "                    flagged_sequences.append(flags)\n",
    "                    pred_obj.append(pred_obj_in_events)\n",
    "                    pred_obj_in_events = []\n",
    "                    gt_obj.append(pred_obj_in_rgb)\n",
    "                    pred_obj_in_rgb = []\n",
    "                    flags = [is_flagged]\n",
    "                else:\n",
    "                    print(idx)\n",
    "                    flags.append(is_flagged)\n",
    "                    prev = idx\n",
    "                # sdv\n",
    "                run_images(img, img_rgb, model_events, model_rgb)\n",
    "            \n",
    "        if dataset_type == 'hold':\n",
    "            if (np.max(distance[low:high] < 0.035) and ('zurich_city_06' in rec_name or 'zurich_city_11_a' in rec_name)):\n",
    "                im1 = cv2.imread(images_prefix+rec_name+'/'+image)\n",
    "                img = im1\n",
    "                img_rgb = cv2.imread(rgb_prefix+f'{rec_name}/images/left/rectified/0{image[6:]}')\n",
    "                run_images(img, img_rgb)\n",
    "\n",
    "        if dataset_type == 'train':\n",
    "            if (np.max(distance[low:high] < 0.035) and not ('zurich_city_06' in rec_name or 'zurich_city_11_a' in rec_name)):\n",
    "                im1 = cv2.imread(images_prefix+rec_name+'/'+image)\n",
    "                img = im1\n",
    "                img_rgb = cv2.imread(rgb_prefix+f'{rec_name}/images/left/rectified/0{image[6:]}')\n",
    "                run_images(img, img_rgb)\n",
    "    \n",
    "    if flags != []:\n",
    "        pred_obj.append(pred_obj_in_events)\n",
    "        gt_obj.append(pred_obj_in_rgb)\n",
    "        flagged_sequences.append(flags)\n",
    "        # print(flagged_sequences, len(flagged_sequences))\n",
    "\n"
   ]
  },
  {
   "cell_type": "code",
   "execution_count": 18,
   "id": "0bce0268-b3a3-4155-a0c9-99cd283a63e2",
   "metadata": {},
   "outputs": [],
   "source": [
    "total_TP = sum(true_positives)\n",
    "total_FP = sum(false_positives)\n",
    "total_FN = sum(false_negatives)"
   ]
  },
  {
   "cell_type": "code",
   "execution_count": 19,
   "id": "52e91cb8-3990-47b7-9edf-c5416d8d107a",
   "metadata": {},
   "outputs": [
    {
     "data": {
      "text/plain": [
       "127"
      ]
     },
     "execution_count": 19,
     "metadata": {},
     "output_type": "execute_result"
    }
   ],
   "source": [
    "total_TP"
   ]
  },
  {
   "cell_type": "code",
   "execution_count": 20,
   "id": "7602c34d-a12f-45ae-b80f-595b85f47196",
   "metadata": {},
   "outputs": [
    {
     "data": {
      "text/plain": [
       "493"
      ]
     },
     "execution_count": 20,
     "metadata": {},
     "output_type": "execute_result"
    }
   ],
   "source": [
    "total_FP"
   ]
  },
  {
   "cell_type": "code",
   "execution_count": 21,
   "id": "b2d45c86-978f-4495-a534-8e15557fc15f",
   "metadata": {},
   "outputs": [
    {
     "data": {
      "text/plain": [
       "479"
      ]
     },
     "execution_count": 21,
     "metadata": {},
     "output_type": "execute_result"
    }
   ],
   "source": [
    "total_FN"
   ]
  },
  {
   "cell_type": "code",
   "execution_count": null,
   "id": "a988d932-3dbd-4b35-bc23-1cd8068aa8ea",
   "metadata": {},
   "outputs": [],
   "source": []
  }
 ],
 "metadata": {
  "kernelspec": {
   "display_name": "vinfo",
   "language": "python",
   "name": "vinfo"
  },
  "language_info": {
   "codemirror_mode": {
    "name": "ipython",
    "version": 3
   },
   "file_extension": ".py",
   "mimetype": "text/x-python",
   "name": "python",
   "nbconvert_exporter": "python",
   "pygments_lexer": "ipython3",
   "version": "3.10.12"
  }
 },
 "nbformat": 4,
 "nbformat_minor": 5
}
